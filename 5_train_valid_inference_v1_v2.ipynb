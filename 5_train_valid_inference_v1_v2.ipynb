{
 "cells": [
  {
   "cell_type": "markdown",
   "metadata": {},
   "source": [
    "# Author: Seunghee Kim\n",
    "- Created on: 2024-12-05"
   ]
  },
  {
   "cell_type": "code",
   "execution_count": 1,
   "metadata": {},
   "outputs": [],
   "source": [
    "import pandas as pd\n",
    "import numpy as np\n",
    "from datasets import Dataset, DatasetDict\n",
    "from transformers import AutoTokenizer, AutoModelForSequenceClassification, TrainingArguments, Trainer\n",
    "from sklearn.metrics import precision_recall_fscore_support, accuracy_score\n",
    "import torch"
   ]
  },
  {
   "cell_type": "code",
   "execution_count": null,
   "metadata": {},
   "outputs": [],
   "source": [
    "class CFG:\n",
    "    SEED = 1\n",
    "    EPOCH = 3\n",
    "    LR = 5e-5\n",
    "    WEIGHT_DECAY = 0.01\n",
    "    BATCH_SIZE = 16\n",
    "    \n",
    "    SAVE_STRATEGY = 'epoch'\n",
    "    EVALUATION_STRATEGY = 'epoch'\n",
    "    METRIC = 'f1'\n",
    "    \n",
    "    EXP_NUM = 1\n",
    "    \n",
    "    \n",
    "    model = 'microsoft/deberta-v3-xsmall'\n",
    "    \n",
    "    # PATH\n",
    "    train_df_path = './df_final_train_v1.csv'\n",
    "    valid_df_path = './df_final_valid_v1.csv'\n",
    "    \n",
    "    test_df_v1_path = './df_final_test_v1.csv'\n",
    "    test_df_v2_path = './df_final_test_v2.csv'\n",
    "    \n",
    "    model_output_path = f'./results_{EXP_NUM}'\n",
    "    test_v1_inference_path = f'test_v1_predictions_{EXP_NUM}.csv'\n",
    "    test_v2_inference_path = f'test_v2_predictions_{EXP_NUM}.csv'\n",
    "    \n"
   ]
  },
  {
   "cell_type": "code",
   "execution_count": 3,
   "metadata": {},
   "outputs": [
    {
     "data": {
      "application/vnd.jupyter.widget-view+json": {
       "model_id": "d2bd30de547943f498b53fa52f427dca",
       "version_major": 2,
       "version_minor": 0
      },
      "text/plain": [
       "Map:   0%|          | 0/9000 [00:00<?, ? examples/s]"
      ]
     },
     "metadata": {},
     "output_type": "display_data"
    },
    {
     "data": {
      "application/vnd.jupyter.widget-view+json": {
       "model_id": "d6bf7b17a89c417d87c67dad549b8478",
       "version_major": 2,
       "version_minor": 0
      },
      "text/plain": [
       "Map:   0%|          | 0/900 [00:00<?, ? examples/s]"
      ]
     },
     "metadata": {},
     "output_type": "display_data"
    },
    {
     "data": {
      "application/vnd.jupyter.widget-view+json": {
       "model_id": "e579489d38fe422fb9104bb2e5aba915",
       "version_major": 2,
       "version_minor": 0
      },
      "text/plain": [
       "Map:   0%|          | 0/900 [00:00<?, ? examples/s]"
      ]
     },
     "metadata": {},
     "output_type": "display_data"
    },
    {
     "data": {
      "application/vnd.jupyter.widget-view+json": {
       "model_id": "a972fc387bf0459baf2312a3cd964a73",
       "version_major": 2,
       "version_minor": 0
      },
      "text/plain": [
       "Map:   0%|          | 0/900 [00:00<?, ? examples/s]"
      ]
     },
     "metadata": {},
     "output_type": "display_data"
    },
    {
     "name": "stderr",
     "output_type": "stream",
     "text": [
      "Some weights of BertForSequenceClassification were not initialized from the model checkpoint at skt/kobert-base-v1 and are newly initialized: ['classifier.weight', 'classifier.bias']\n",
      "You should probably TRAIN this model on a down-stream task to be able to use it for predictions and inference.\n",
      "c:\\Users\\gyg_9\\anaconda3\\envs\\ksh\\lib\\site-packages\\accelerate\\accelerator.py:436: FutureWarning: Passing the following arguments to `Accelerator` is deprecated and will be removed in version 1.0 of Accelerate: dict_keys(['dispatch_batches', 'split_batches']). Please pass an `accelerate.DataLoaderConfiguration` instead: \n",
      "dataloader_config = DataLoaderConfiguration(dispatch_batches=None, split_batches=False)\n",
      "  warnings.warn(\n",
      "Failed to detect the name of this notebook, you can set it manually with the WANDB_NOTEBOOK_NAME environment variable to enable code saving.\n",
      "\u001b[34m\u001b[1mwandb\u001b[0m: Currently logged in as: \u001b[33mgyg9325\u001b[0m (\u001b[33munig\u001b[0m). Use \u001b[1m`wandb login --relogin`\u001b[0m to force relogin\n"
     ]
    },
    {
     "data": {
      "text/html": [
       "wandb version 0.19.0 is available!  To upgrade, please run:\n",
       " $ pip install wandb --upgrade"
      ],
      "text/plain": [
       "<IPython.core.display.HTML object>"
      ]
     },
     "metadata": {},
     "output_type": "display_data"
    },
    {
     "data": {
      "text/html": [
       "Tracking run with wandb version 0.16.5"
      ],
      "text/plain": [
       "<IPython.core.display.HTML object>"
      ]
     },
     "metadata": {},
     "output_type": "display_data"
    },
    {
     "data": {
      "text/html": [
       "Run data is saved locally in <code>c:\\Users\\gyg_9\\Desktop\\AI_X_DL_Final_Proj\\wandb\\run-20241207_203208-hlu2ty2a</code>"
      ],
      "text/plain": [
       "<IPython.core.display.HTML object>"
      ]
     },
     "metadata": {},
     "output_type": "display_data"
    },
    {
     "data": {
      "text/html": [
       "Syncing run <strong><a href='https://wandb.ai/unig/huggingface/runs/hlu2ty2a/workspace' target=\"_blank\">whole-fog-510</a></strong> to <a href='https://wandb.ai/unig/huggingface' target=\"_blank\">Weights & Biases</a> (<a href='https://wandb.me/run' target=\"_blank\">docs</a>)<br/>"
      ],
      "text/plain": [
       "<IPython.core.display.HTML object>"
      ]
     },
     "metadata": {},
     "output_type": "display_data"
    },
    {
     "data": {
      "text/html": [
       " View project at <a href='https://wandb.ai/unig/huggingface' target=\"_blank\">https://wandb.ai/unig/huggingface</a>"
      ],
      "text/plain": [
       "<IPython.core.display.HTML object>"
      ]
     },
     "metadata": {},
     "output_type": "display_data"
    },
    {
     "data": {
      "text/html": [
       " View run at <a href='https://wandb.ai/unig/huggingface/runs/hlu2ty2a/workspace' target=\"_blank\">https://wandb.ai/unig/huggingface/runs/hlu2ty2a/workspace</a>"
      ],
      "text/plain": [
       "<IPython.core.display.HTML object>"
      ]
     },
     "metadata": {},
     "output_type": "display_data"
    },
    {
     "data": {
      "application/vnd.jupyter.widget-view+json": {
       "model_id": "973e9a4f156d40f788f8273675c1554d",
       "version_major": 2,
       "version_minor": 0
      },
      "text/plain": [
       "  0%|          | 0/1689 [00:00<?, ?it/s]"
      ]
     },
     "metadata": {},
     "output_type": "display_data"
    },
    {
     "name": "stderr",
     "output_type": "stream",
     "text": [
      "You're using a XLNetTokenizerFast tokenizer. Please note that with a fast tokenizer, using the `__call__` method is faster than using a method to encode the text followed by a call to the `pad` method to get a padded encoding.\n"
     ]
    },
    {
     "name": "stdout",
     "output_type": "stream",
     "text": [
      "{'loss': 0.6769, 'learning_rate': 3.5198342214328006e-05, 'epoch': 0.89}\n"
     ]
    },
    {
     "data": {
      "application/vnd.jupyter.widget-view+json": {
       "model_id": "fc83d7974ee1474c85555113981a8c42",
       "version_major": 2,
       "version_minor": 0
      },
      "text/plain": [
       "  0%|          | 0/57 [00:00<?, ?it/s]"
      ]
     },
     "metadata": {},
     "output_type": "display_data"
    },
    {
     "name": "stderr",
     "output_type": "stream",
     "text": [
      "Checkpoint destination directory ./results_1\\checkpoint-563 already exists and is non-empty.Saving will proceed but saved results may be invalid.\n"
     ]
    },
    {
     "name": "stdout",
     "output_type": "stream",
     "text": [
      "{'eval_loss': 0.7074477076530457, 'eval_accuracy': 0.43555555555555553, 'eval_precision': 0.046875, 'eval_recall': 0.006666666666666667, 'eval_f1': 0.011673151750972763, 'eval_runtime': 13.5276, 'eval_samples_per_second': 66.53, 'eval_steps_per_second': 4.214, 'epoch': 1.0}\n",
      "{'loss': 0.6895, 'learning_rate': 2.039668442865601e-05, 'epoch': 1.78}\n"
     ]
    },
    {
     "data": {
      "application/vnd.jupyter.widget-view+json": {
       "model_id": "e4e4958e79354ca3b8c4dbf014ababfb",
       "version_major": 2,
       "version_minor": 0
      },
      "text/plain": [
       "  0%|          | 0/57 [00:00<?, ?it/s]"
      ]
     },
     "metadata": {},
     "output_type": "display_data"
    },
    {
     "name": "stdout",
     "output_type": "stream",
     "text": [
      "{'eval_loss': 0.674920916557312, 'eval_accuracy': 0.6088888888888889, 'eval_precision': 0.5628205128205128, 'eval_recall': 0.9755555555555555, 'eval_f1': 0.7138211382113822, 'eval_runtime': 13.6736, 'eval_samples_per_second': 65.82, 'eval_steps_per_second': 4.169, 'epoch': 2.0}\n",
      "{'loss': 0.6971, 'learning_rate': 5.595026642984015e-06, 'epoch': 2.66}\n"
     ]
    },
    {
     "data": {
      "application/vnd.jupyter.widget-view+json": {
       "model_id": "d28d65d93a0f42d3b65c96e35f79a016",
       "version_major": 2,
       "version_minor": 0
      },
      "text/plain": [
       "  0%|          | 0/57 [00:00<?, ?it/s]"
      ]
     },
     "metadata": {},
     "output_type": "display_data"
    },
    {
     "name": "stderr",
     "output_type": "stream",
     "text": [
      "c:\\Users\\gyg_9\\anaconda3\\envs\\ksh\\lib\\site-packages\\sklearn\\metrics\\_classification.py:1344: UndefinedMetricWarning: Precision and F-score are ill-defined and being set to 0.0 due to no predicted samples. Use `zero_division` parameter to control this behavior.\n",
      "  _warn_prf(average, modifier, msg_start, len(result))\n"
     ]
    },
    {
     "name": "stdout",
     "output_type": "stream",
     "text": [
      "{'eval_loss': 0.6775010824203491, 'eval_accuracy': 0.5, 'eval_precision': 0.0, 'eval_recall': 0.0, 'eval_f1': 0.0, 'eval_runtime': 13.7817, 'eval_samples_per_second': 65.304, 'eval_steps_per_second': 4.136, 'epoch': 3.0}\n",
      "{'train_runtime': 1297.7489, 'train_samples_per_second': 20.805, 'train_steps_per_second': 1.301, 'train_loss': 0.6886849908732747, 'epoch': 3.0}\n"
     ]
    },
    {
     "data": {
      "application/vnd.jupyter.widget-view+json": {
       "model_id": "feea2e40bd45493ab9522984ae9a3e1b",
       "version_major": 2,
       "version_minor": 0
      },
      "text/plain": [
       "  0%|          | 0/57 [00:00<?, ?it/s]"
      ]
     },
     "metadata": {},
     "output_type": "display_data"
    },
    {
     "name": "stdout",
     "output_type": "stream",
     "text": [
      "Validation Results:\n",
      " {'eval_loss': 0.674920916557312, 'eval_accuracy': 0.6088888888888889, 'eval_precision': 0.5628205128205128, 'eval_recall': 0.9755555555555555, 'eval_f1': 0.7138211382113822, 'eval_runtime': 13.6986, 'eval_samples_per_second': 65.7, 'eval_steps_per_second': 4.161, 'epoch': 3.0}\n"
     ]
    },
    {
     "data": {
      "application/vnd.jupyter.widget-view+json": {
       "model_id": "14e9a850e6194645a901237884f36df9",
       "version_major": 2,
       "version_minor": 0
      },
      "text/plain": [
       "  0%|          | 0/57 [00:00<?, ?it/s]"
      ]
     },
     "metadata": {},
     "output_type": "display_data"
    },
    {
     "name": "stdout",
     "output_type": "stream",
     "text": [
      "Test v1 Inference Results: {'accuracy': 0.6055555555555555, 'precision': 0.5608194622279129, 'recall': 0.9733333333333334, 'f1': 0.7116165718927701}\n"
     ]
    },
    {
     "data": {
      "application/vnd.jupyter.widget-view+json": {
       "model_id": "e6788c7e4cd2435596ce1bb870e461f5",
       "version_major": 2,
       "version_minor": 0
      },
      "text/plain": [
       "  0%|          | 0/57 [00:00<?, ?it/s]"
      ]
     },
     "metadata": {},
     "output_type": "display_data"
    },
    {
     "name": "stdout",
     "output_type": "stream",
     "text": [
      "Test v2 Inference Results: {'accuracy': 0.5611111111111111, 'precision': 0.5371120107962213, 'recall': 0.8844444444444445, 'f1': 0.6683459277917716}\n"
     ]
    }
   ],
   "source": [
    "train_df = pd.read_csv(CFG.train_df_path)\n",
    "valid_df = pd.read_csv(CFG.valid_df_path)\n",
    "test_df_v1 = pd.read_csv(CFG.test_df_v1_path)\n",
    "test_df_v2 = pd.read_csv(CFG.test_df_v2_path)\n",
    "\n",
    "\n",
    "\n",
    "train_df = train_df.sample(frac=1, random_state=CFG.SEED).reset_index(drop=True)\n",
    "valid_df = valid_df.sample(frac=1, random_state=CFG.SEED).reset_index(drop=True)\n",
    "test_df_v1 = test_df_v1.sample(frac=1, random_state=CFG.SEED).reset_index(drop=True)\n",
    "test_df_v2 = test_df_v2.sample(frac=1, random_state=CFG.SEED).reset_index(drop=True)\n",
    "\n",
    "\n",
    "\n",
    "def preprocess_data(df):\n",
    "    return Dataset.from_pandas(df[['text', 'label']])\n",
    "\n",
    "train_dataset = preprocess_data(train_df)\n",
    "valid_dataset = preprocess_data(valid_df)\n",
    "test_v1_dataset = preprocess_data(test_df_v1)\n",
    "test_v2_dataset = preprocess_data(test_df_v2)\n",
    "\n",
    "model_name = CFG.model\n",
    "tokenizer = AutoTokenizer.from_pretrained(model_name)\n",
    "\n",
    "def tokenize_function(examples):\n",
    "    return tokenizer(examples['text'], padding=\"max_length\", truncation=True, max_length=512)\n",
    "\n",
    "train_dataset = train_dataset.map(tokenize_function, batched=True)\n",
    "valid_dataset = valid_dataset.map(tokenize_function, batched=True)\n",
    "test_v1_dataset = test_v1_dataset.map(tokenize_function, batched=True)\n",
    "test_v2_dataset = test_v2_dataset.map(tokenize_function, batched=True)\n",
    "\n",
    "\n",
    "\n",
    "\n",
    "train_dataset = train_dataset.rename_column(\"label\", \"labels\")\n",
    "valid_dataset = valid_dataset.rename_column(\"label\", \"labels\")\n",
    "test_v1_dataset = test_v1_dataset.rename_column(\"label\", \"labels\")\n",
    "test_v2_dataset = test_v2_dataset.rename_column(\"label\", \"labels\")\n",
    "\n",
    "\n",
    "\n",
    "train_dataset.set_format(type='torch', columns=['input_ids', 'attention_mask', 'labels'])\n",
    "valid_dataset.set_format(type='torch', columns=['input_ids', 'attention_mask', 'labels'])\n",
    "test_v1_dataset.set_format(type='torch', columns=['input_ids', 'attention_mask', 'labels'])\n",
    "test_v2_dataset.set_format(type='torch', columns=['input_ids', 'attention_mask', 'labels'])\n",
    "\n",
    "\n",
    "\n",
    "\n",
    "model = AutoModelForSequenceClassification.from_pretrained(model_name, num_labels=2)\n",
    "\n",
    "def compute_metrics(pred):\n",
    "    labels = pred.label_ids\n",
    "    preds = pred.predictions.argmax(-1)\n",
    "    precision, recall, f1, _ = precision_recall_fscore_support(labels, preds, average='binary')\n",
    "    acc = accuracy_score(labels, preds)\n",
    "    return {\"accuracy\": acc, \"precision\": precision, \"recall\": recall, \"f1\": f1}\n",
    "\n",
    "training_args = TrainingArguments(\n",
    "    output_dir=CFG.model_output_path,\n",
    "    evaluation_strategy=CFG.EVALUATION_STRATEGY,\n",
    "    save_strategy=CFG.SAVE_STRATEGY,\n",
    "    per_device_train_batch_size=CFG.BATCH_SIZE,\n",
    "    per_device_eval_batch_size=CFG.BATCH_SIZE,\n",
    "    num_train_epochs=CFG.EPOCH,\n",
    "    weight_decay=CFG.WEIGHT_DECAY,\n",
    "    save_total_limit=1,\n",
    "    load_best_model_at_end=True,\n",
    "    metric_for_best_model=CFG.METRIC,\n",
    "    learning_rate=CFG.LR,\n",
    "    greater_is_better=True,\n",
    "    seed=CFG.SEED\n",
    ")\n",
    "\n",
    "trainer = Trainer(\n",
    "    model=model,\n",
    "    args=training_args,\n",
    "    train_dataset=train_dataset,\n",
    "    eval_dataset=valid_dataset,\n",
    "    tokenizer=tokenizer,\n",
    "    compute_metrics=compute_metrics\n",
    ")\n",
    "\n",
    "trainer.train()\n",
    "\n",
    "eval_results = trainer.evaluate()\n",
    "print(\"Validation Results:\\n\", eval_results)\n",
    "\n",
    "\n",
    "# test v1\n",
    "\n",
    "test_v1_predictions = trainer.predict(test_v1_dataset)\n",
    "\n",
    "test_v1_preds = torch.argmax(torch.tensor(test_v1_predictions.predictions), dim=-1).numpy()\n",
    "test_v1_labels = test_v1_predictions.label_ids\n",
    "\n",
    "\n",
    "def compute_metrics_for_test(labels, preds):\n",
    "    precision, recall, f1, _ = precision_recall_fscore_support(labels, preds, average='binary')\n",
    "    acc = accuracy_score(labels, preds)\n",
    "    return {\"accuracy\": acc, \"precision\": precision, \"recall\": recall, \"f1\": f1}\n",
    "\n",
    "test_metrics = compute_metrics_for_test(test_v1_labels, test_v1_preds)\n",
    "\n",
    "print(\"Test v1 Inference Results:\", test_metrics)\n",
    "\n",
    "test_df_v1['predicted_label'] = test_v1_preds\n",
    "test_df_v1.to_csv(CFG.test_v1_inference_path, index=False)\n",
    "\n",
    "\n",
    "\n",
    "# test v2\n",
    "test_v2_predictions = trainer.predict(test_v2_dataset)\n",
    "test_v2_preds = torch.argmax(torch.tensor(test_v2_predictions.predictions), dim=-1).numpy()\n",
    "test_v2_labels = test_v2_predictions.label_ids\n",
    "\n",
    "def compute_metrics_for_test(labels, preds):\n",
    "    precision, recall, f1, _ = precision_recall_fscore_support(labels, preds, average='binary')\n",
    "    acc = accuracy_score(labels, preds)\n",
    "    return {\"accuracy\": acc, \"precision\": precision, \"recall\": recall, \"f1\": f1}\n",
    "\n",
    "test_metrics = compute_metrics_for_test(test_v2_labels, test_v2_preds)\n",
    "\n",
    "print(\"Test v2 Inference Results:\", test_metrics)\n",
    "\n",
    "test_df_v2['predicted_label'] = test_v2_preds\n",
    "test_df_v2.to_csv(CFG.test_v2_inference_path, index=False)"
   ]
  },
  {
   "cell_type": "code",
   "execution_count": null,
   "metadata": {},
   "outputs": [],
   "source": []
  },
  {
   "cell_type": "code",
   "execution_count": null,
   "metadata": {},
   "outputs": [],
   "source": []
  },
  {
   "cell_type": "code",
   "execution_count": null,
   "metadata": {},
   "outputs": [],
   "source": []
  },
  {
   "cell_type": "code",
   "execution_count": null,
   "metadata": {},
   "outputs": [],
   "source": []
  },
  {
   "cell_type": "code",
   "execution_count": null,
   "metadata": {},
   "outputs": [],
   "source": []
  },
  {
   "cell_type": "code",
   "execution_count": null,
   "metadata": {},
   "outputs": [],
   "source": []
  },
  {
   "cell_type": "code",
   "execution_count": null,
   "metadata": {},
   "outputs": [],
   "source": []
  }
 ],
 "metadata": {
  "kernelspec": {
   "display_name": "ksh",
   "language": "python",
   "name": "python3"
  },
  "language_info": {
   "codemirror_mode": {
    "name": "ipython",
    "version": 3
   },
   "file_extension": ".py",
   "mimetype": "text/x-python",
   "name": "python",
   "nbconvert_exporter": "python",
   "pygments_lexer": "ipython3",
   "version": "3.9.19"
  }
 },
 "nbformat": 4,
 "nbformat_minor": 2
}
