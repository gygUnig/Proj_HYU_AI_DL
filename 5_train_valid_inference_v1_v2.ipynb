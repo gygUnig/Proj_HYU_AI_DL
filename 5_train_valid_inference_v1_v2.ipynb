{
 "cells": [
  {
   "cell_type": "markdown",
   "metadata": {},
   "source": [
    "# Author: Seunghee Kim\n",
    "- Created on: 2024-12-05"
   ]
  },
  {
   "cell_type": "code",
   "execution_count": 1,
   "metadata": {},
   "outputs": [],
   "source": [
    "import pandas as pd\n",
    "import numpy as np\n",
    "from datasets import Dataset, DatasetDict\n",
    "from transformers import AutoTokenizer, AutoModelForSequenceClassification, TrainingArguments, Trainer\n",
    "from sklearn.metrics import precision_recall_fscore_support, accuracy_score\n",
    "import torch"
   ]
  },
  {
   "cell_type": "code",
   "execution_count": 2,
   "metadata": {},
   "outputs": [],
   "source": [
    "class CFG:\n",
    "    SEED = 1\n",
    "    EPOCH = 3\n",
    "    LR = 5e-5\n",
    "    WEIGHT_DECAY = 0.01\n",
    "    BATCH_SIZE = 16\n",
    "    \n",
    "    SAVE_STRATEGY = 'epoch'\n",
    "    EVALUATION_STRATEGY = 'epoch'\n",
    "    METRIC = 'f1'\n",
    "    \n",
    "    EXP_NUM = 1\n",
    "    \n",
    "    \n",
    "    model = 'skt/kobert-base-v1'\n",
    "    \n",
    "    # PATH\n",
    "    train_df_path = './df_final_train_v1.csv'\n",
    "    valid_df_path = './df_final_valid_v1.csv'\n",
    "    \n",
    "    test_df_v1_path = './df_final_test_v1.csv'\n",
    "    test_df_v2_path = './df_final_test_v2.csv'\n",
    "    \n",
    "    model_output_path = f'./results_{EXP_NUM}'\n",
    "    test_v1_inference_path = f'test_v1_predictions_{EXP_NUM}.csv'\n",
    "    test_v2_inference_path = f'test_v2_predictions_{EXP_NUM}.csv'\n",
    "    \n"
   ]
  },
  {
   "cell_type": "code",
   "execution_count": 3,
   "metadata": {},
   "outputs": [
    {
     "data": {
      "application/vnd.jupyter.widget-view+json": {
       "model_id": "5a2000d6517b445eb2ba95849178a913",
       "version_major": 2,
       "version_minor": 0
      },
      "text/plain": [
       "Map:   0%|          | 0/9000 [00:00<?, ? examples/s]"
      ]
     },
     "metadata": {},
     "output_type": "display_data"
    },
    {
     "data": {
      "application/vnd.jupyter.widget-view+json": {
       "model_id": "c62a8ace13bc4714909ca107da65e9b4",
       "version_major": 2,
       "version_minor": 0
      },
      "text/plain": [
       "Map:   0%|          | 0/900 [00:00<?, ? examples/s]"
      ]
     },
     "metadata": {},
     "output_type": "display_data"
    },
    {
     "data": {
      "application/vnd.jupyter.widget-view+json": {
       "model_id": "da5a306d142445b7bcb2f17f054e9130",
       "version_major": 2,
       "version_minor": 0
      },
      "text/plain": [
       "Map:   0%|          | 0/900 [00:00<?, ? examples/s]"
      ]
     },
     "metadata": {},
     "output_type": "display_data"
    },
    {
     "data": {
      "application/vnd.jupyter.widget-view+json": {
       "model_id": "d25c2befe7d940918960d817f168f963",
       "version_major": 2,
       "version_minor": 0
      },
      "text/plain": [
       "Map:   0%|          | 0/900 [00:00<?, ? examples/s]"
      ]
     },
     "metadata": {},
     "output_type": "display_data"
    },
    {
     "name": "stderr",
     "output_type": "stream",
     "text": [
      "Some weights of BertForSequenceClassification were not initialized from the model checkpoint at skt/kobert-base-v1 and are newly initialized: ['classifier.weight', 'classifier.bias']\n",
      "You should probably TRAIN this model on a down-stream task to be able to use it for predictions and inference.\n",
      "c:\\Users\\gyg_9\\anaconda3\\envs\\ksh\\lib\\site-packages\\accelerate\\accelerator.py:436: FutureWarning: Passing the following arguments to `Accelerator` is deprecated and will be removed in version 1.0 of Accelerate: dict_keys(['dispatch_batches', 'split_batches']). Please pass an `accelerate.DataLoaderConfiguration` instead: \n",
      "dataloader_config = DataLoaderConfiguration(dispatch_batches=None, split_batches=False)\n",
      "  warnings.warn(\n",
      "Failed to detect the name of this notebook, you can set it manually with the WANDB_NOTEBOOK_NAME environment variable to enable code saving.\n",
      "\u001b[34m\u001b[1mwandb\u001b[0m: Currently logged in as: \u001b[33mgyg9325\u001b[0m (\u001b[33munig\u001b[0m). Use \u001b[1m`wandb login --relogin`\u001b[0m to force relogin\n"
     ]
    },
    {
     "data": {
      "text/html": [
       "wandb version 0.19.0 is available!  To upgrade, please run:\n",
       " $ pip install wandb --upgrade"
      ],
      "text/plain": [
       "<IPython.core.display.HTML object>"
      ]
     },
     "metadata": {},
     "output_type": "display_data"
    },
    {
     "data": {
      "text/html": [
       "Tracking run with wandb version 0.16.5"
      ],
      "text/plain": [
       "<IPython.core.display.HTML object>"
      ]
     },
     "metadata": {},
     "output_type": "display_data"
    },
    {
     "data": {
      "text/html": [
       "Run data is saved locally in <code>c:\\Users\\gyg_9\\Desktop\\AI_X_DL_Final_Proj\\wandb\\run-20241208_030624-wzwaqxpg</code>"
      ],
      "text/plain": [
       "<IPython.core.display.HTML object>"
      ]
     },
     "metadata": {},
     "output_type": "display_data"
    },
    {
     "data": {
      "text/html": [
       "Syncing run <strong><a href='https://wandb.ai/unig/huggingface/runs/wzwaqxpg/workspace' target=\"_blank\">fluent-pine-516</a></strong> to <a href='https://wandb.ai/unig/huggingface' target=\"_blank\">Weights & Biases</a> (<a href='https://wandb.me/run' target=\"_blank\">docs</a>)<br/>"
      ],
      "text/plain": [
       "<IPython.core.display.HTML object>"
      ]
     },
     "metadata": {},
     "output_type": "display_data"
    },
    {
     "data": {
      "text/html": [
       " View project at <a href='https://wandb.ai/unig/huggingface' target=\"_blank\">https://wandb.ai/unig/huggingface</a>"
      ],
      "text/plain": [
       "<IPython.core.display.HTML object>"
      ]
     },
     "metadata": {},
     "output_type": "display_data"
    },
    {
     "data": {
      "text/html": [
       " View run at <a href='https://wandb.ai/unig/huggingface/runs/wzwaqxpg/workspace' target=\"_blank\">https://wandb.ai/unig/huggingface/runs/wzwaqxpg/workspace</a>"
      ],
      "text/plain": [
       "<IPython.core.display.HTML object>"
      ]
     },
     "metadata": {},
     "output_type": "display_data"
    },
    {
     "data": {
      "application/vnd.jupyter.widget-view+json": {
       "model_id": "e7e619003d6b459a8980faa33242eda4",
       "version_major": 2,
       "version_minor": 0
      },
      "text/plain": [
       "  0%|          | 0/1689 [00:00<?, ?it/s]"
      ]
     },
     "metadata": {},
     "output_type": "display_data"
    },
    {
     "name": "stderr",
     "output_type": "stream",
     "text": [
      "You're using a XLNetTokenizerFast tokenizer. Please note that with a fast tokenizer, using the `__call__` method is faster than using a method to encode the text followed by a call to the `pad` method to get a padded encoding.\n"
     ]
    },
    {
     "name": "stdout",
     "output_type": "stream",
     "text": [
      "{'loss': 0.4794, 'learning_rate': 3.5198342214328006e-05, 'epoch': 0.89}\n"
     ]
    },
    {
     "data": {
      "application/vnd.jupyter.widget-view+json": {
       "model_id": "0b2b750cbc5d4b9cb9d3c7e35faa50db",
       "version_major": 2,
       "version_minor": 0
      },
      "text/plain": [
       "  0%|          | 0/57 [00:00<?, ?it/s]"
      ]
     },
     "metadata": {},
     "output_type": "display_data"
    },
    {
     "name": "stderr",
     "output_type": "stream",
     "text": [
      "c:\\Users\\gyg_9\\anaconda3\\envs\\ksh\\lib\\site-packages\\sklearn\\metrics\\_classification.py:1344: UndefinedMetricWarning: Precision and F-score are ill-defined and being set to 0.0 due to no predicted samples. Use `zero_division` parameter to control this behavior.\n",
      "  _warn_prf(average, modifier, msg_start, len(result))\n",
      "Checkpoint destination directory ./results_1\\checkpoint-563 already exists and is non-empty.Saving will proceed but saved results may be invalid.\n"
     ]
    },
    {
     "name": "stdout",
     "output_type": "stream",
     "text": [
      "{'eval_loss': 0.7384202480316162, 'eval_accuracy': 0.5, 'eval_precision': 0.0, 'eval_recall': 0.0, 'eval_f1': 0.0, 'eval_runtime': 13.815, 'eval_samples_per_second': 65.147, 'eval_steps_per_second': 4.126, 'epoch': 1.0}\n",
      "{'loss': 0.5352, 'learning_rate': 2.039668442865601e-05, 'epoch': 1.78}\n"
     ]
    },
    {
     "data": {
      "application/vnd.jupyter.widget-view+json": {
       "model_id": "e49d17a7fbf04379961d754ce7053102",
       "version_major": 2,
       "version_minor": 0
      },
      "text/plain": [
       "  0%|          | 0/57 [00:00<?, ?it/s]"
      ]
     },
     "metadata": {},
     "output_type": "display_data"
    },
    {
     "name": "stdout",
     "output_type": "stream",
     "text": [
      "{'eval_loss': 0.44051286578178406, 'eval_accuracy': 0.8011111111111111, 'eval_precision': 0.722495894909688, 'eval_recall': 0.9777777777777777, 'eval_f1': 0.8309726156751652, 'eval_runtime': 13.9395, 'eval_samples_per_second': 64.565, 'eval_steps_per_second': 4.089, 'epoch': 2.0}\n",
      "{'loss': 0.3786, 'learning_rate': 5.595026642984015e-06, 'epoch': 2.66}\n"
     ]
    },
    {
     "data": {
      "application/vnd.jupyter.widget-view+json": {
       "model_id": "8b6a4b15ca8c466783c37b67ca4bd2a0",
       "version_major": 2,
       "version_minor": 0
      },
      "text/plain": [
       "  0%|          | 0/57 [00:00<?, ?it/s]"
      ]
     },
     "metadata": {},
     "output_type": "display_data"
    },
    {
     "name": "stdout",
     "output_type": "stream",
     "text": [
      "{'eval_loss': 0.3354502320289612, 'eval_accuracy': 0.8766666666666667, 'eval_precision': 0.8538622129436325, 'eval_recall': 0.9088888888888889, 'eval_f1': 0.8805166846071044, 'eval_runtime': 14.1826, 'eval_samples_per_second': 63.458, 'eval_steps_per_second': 4.019, 'epoch': 3.0}\n",
      "{'train_runtime': 1294.449, 'train_samples_per_second': 20.858, 'train_steps_per_second': 1.305, 'train_loss': 0.4488664833732862, 'epoch': 3.0}\n"
     ]
    },
    {
     "data": {
      "application/vnd.jupyter.widget-view+json": {
       "model_id": "4d2af2c7ee2543fba5e11670391c056c",
       "version_major": 2,
       "version_minor": 0
      },
      "text/plain": [
       "  0%|          | 0/57 [00:00<?, ?it/s]"
      ]
     },
     "metadata": {},
     "output_type": "display_data"
    },
    {
     "name": "stdout",
     "output_type": "stream",
     "text": [
      "Validation Results:\n",
      " {'eval_loss': 0.3354502320289612, 'eval_accuracy': 0.8766666666666667, 'eval_precision': 0.8538622129436325, 'eval_recall': 0.9088888888888889, 'eval_f1': 0.8805166846071044, 'eval_runtime': 13.6708, 'eval_samples_per_second': 65.834, 'eval_steps_per_second': 4.169, 'epoch': 3.0}\n"
     ]
    },
    {
     "data": {
      "application/vnd.jupyter.widget-view+json": {
       "model_id": "2cb776044be245c3ba1f7da0a907ecf5",
       "version_major": 2,
       "version_minor": 0
      },
      "text/plain": [
       "  0%|          | 0/57 [00:00<?, ?it/s]"
      ]
     },
     "metadata": {},
     "output_type": "display_data"
    },
    {
     "name": "stdout",
     "output_type": "stream",
     "text": [
      "Test v1 Inference Results: {'accuracy': 0.8655555555555555, 'precision': 0.8434237995824635, 'recall': 0.8977777777777778, 'f1': 0.8697524219590959}\n"
     ]
    },
    {
     "data": {
      "application/vnd.jupyter.widget-view+json": {
       "model_id": "81193012995d4556a8560b1536c115b8",
       "version_major": 2,
       "version_minor": 0
      },
      "text/plain": [
       "  0%|          | 0/57 [00:00<?, ?it/s]"
      ]
     },
     "metadata": {},
     "output_type": "display_data"
    },
    {
     "name": "stdout",
     "output_type": "stream",
     "text": [
      "Test v2 Inference Results: {'accuracy': 0.7233333333333334, 'precision': 0.7863247863247863, 'recall': 0.6133333333333333, 'f1': 0.6891385767790262}\n"
     ]
    }
   ],
   "source": [
    "train_df = pd.read_csv(CFG.train_df_path)\n",
    "valid_df = pd.read_csv(CFG.valid_df_path)\n",
    "test_df_v1 = pd.read_csv(CFG.test_df_v1_path)\n",
    "test_df_v2 = pd.read_csv(CFG.test_df_v2_path)\n",
    "\n",
    "\n",
    "\n",
    "train_df = train_df.sample(frac=1, random_state=CFG.SEED).reset_index(drop=True)\n",
    "valid_df = valid_df.sample(frac=1, random_state=CFG.SEED).reset_index(drop=True)\n",
    "test_df_v1 = test_df_v1.sample(frac=1, random_state=CFG.SEED).reset_index(drop=True)\n",
    "test_df_v2 = test_df_v2.sample(frac=1, random_state=CFG.SEED).reset_index(drop=True)\n",
    "\n",
    "\n",
    "\n",
    "def preprocess_data(df):\n",
    "    return Dataset.from_pandas(df[['text', 'label']])\n",
    "\n",
    "train_dataset = preprocess_data(train_df)\n",
    "valid_dataset = preprocess_data(valid_df)\n",
    "test_v1_dataset = preprocess_data(test_df_v1)\n",
    "test_v2_dataset = preprocess_data(test_df_v2)\n",
    "\n",
    "model_name = CFG.model\n",
    "tokenizer = AutoTokenizer.from_pretrained(model_name)\n",
    "\n",
    "def tokenize_function(examples):\n",
    "    return tokenizer(examples['text'], padding=\"max_length\", truncation=True, max_length=512)\n",
    "\n",
    "train_dataset = train_dataset.map(tokenize_function, batched=True)\n",
    "valid_dataset = valid_dataset.map(tokenize_function, batched=True)\n",
    "test_v1_dataset = test_v1_dataset.map(tokenize_function, batched=True)\n",
    "test_v2_dataset = test_v2_dataset.map(tokenize_function, batched=True)\n",
    "\n",
    "\n",
    "\n",
    "\n",
    "train_dataset = train_dataset.rename_column(\"label\", \"labels\")\n",
    "valid_dataset = valid_dataset.rename_column(\"label\", \"labels\")\n",
    "test_v1_dataset = test_v1_dataset.rename_column(\"label\", \"labels\")\n",
    "test_v2_dataset = test_v2_dataset.rename_column(\"label\", \"labels\")\n",
    "\n",
    "\n",
    "\n",
    "train_dataset.set_format(type='torch', columns=['input_ids', 'attention_mask', 'labels'])\n",
    "valid_dataset.set_format(type='torch', columns=['input_ids', 'attention_mask', 'labels'])\n",
    "test_v1_dataset.set_format(type='torch', columns=['input_ids', 'attention_mask', 'labels'])\n",
    "test_v2_dataset.set_format(type='torch', columns=['input_ids', 'attention_mask', 'labels'])\n",
    "\n",
    "\n",
    "\n",
    "\n",
    "model = AutoModelForSequenceClassification.from_pretrained(model_name, num_labels=2)\n",
    "\n",
    "def compute_metrics(pred):\n",
    "    labels = pred.label_ids\n",
    "    preds = pred.predictions.argmax(-1)\n",
    "    precision, recall, f1, _ = precision_recall_fscore_support(labels, preds, average='binary')\n",
    "    acc = accuracy_score(labels, preds)\n",
    "    return {\"accuracy\": acc, \"precision\": precision, \"recall\": recall, \"f1\": f1}\n",
    "\n",
    "training_args = TrainingArguments(\n",
    "    output_dir=CFG.model_output_path,\n",
    "    evaluation_strategy=CFG.EVALUATION_STRATEGY,\n",
    "    save_strategy=CFG.SAVE_STRATEGY,\n",
    "    per_device_train_batch_size=CFG.BATCH_SIZE,\n",
    "    per_device_eval_batch_size=CFG.BATCH_SIZE,\n",
    "    num_train_epochs=CFG.EPOCH,\n",
    "    weight_decay=CFG.WEIGHT_DECAY,\n",
    "    save_total_limit=1,\n",
    "    load_best_model_at_end=True,\n",
    "    metric_for_best_model=CFG.METRIC,\n",
    "    learning_rate=CFG.LR,\n",
    "    greater_is_better=True,\n",
    "    seed=CFG.SEED\n",
    ")\n",
    "\n",
    "trainer = Trainer(\n",
    "    model=model,\n",
    "    args=training_args,\n",
    "    train_dataset=train_dataset,\n",
    "    eval_dataset=valid_dataset,\n",
    "    tokenizer=tokenizer,\n",
    "    compute_metrics=compute_metrics\n",
    ")\n",
    "\n",
    "trainer.train()\n",
    "\n",
    "eval_results = trainer.evaluate()\n",
    "print(\"Validation Results:\\n\", eval_results)\n",
    "\n",
    "\n",
    "# test v1\n",
    "\n",
    "test_v1_predictions = trainer.predict(test_v1_dataset)\n",
    "\n",
    "test_v1_preds = torch.argmax(torch.tensor(test_v1_predictions.predictions), dim=-1).numpy()\n",
    "test_v1_labels = test_v1_predictions.label_ids\n",
    "\n",
    "\n",
    "def compute_metrics_for_test(labels, preds):\n",
    "    precision, recall, f1, _ = precision_recall_fscore_support(labels, preds, average='binary')\n",
    "    acc = accuracy_score(labels, preds)\n",
    "    return {\"accuracy\": acc, \"precision\": precision, \"recall\": recall, \"f1\": f1}\n",
    "\n",
    "test_metrics = compute_metrics_for_test(test_v1_labels, test_v1_preds)\n",
    "\n",
    "print(\"Test v1 Inference Results:\", test_metrics)\n",
    "\n",
    "test_df_v1['predicted_label'] = test_v1_preds\n",
    "test_df_v1.to_csv(CFG.test_v1_inference_path, index=False)\n",
    "\n",
    "\n",
    "\n",
    "# test v2\n",
    "test_v2_predictions = trainer.predict(test_v2_dataset)\n",
    "test_v2_preds = torch.argmax(torch.tensor(test_v2_predictions.predictions), dim=-1).numpy()\n",
    "test_v2_labels = test_v2_predictions.label_ids\n",
    "\n",
    "def compute_metrics_for_test(labels, preds):\n",
    "    precision, recall, f1, _ = precision_recall_fscore_support(labels, preds, average='binary')\n",
    "    acc = accuracy_score(labels, preds)\n",
    "    return {\"accuracy\": acc, \"precision\": precision, \"recall\": recall, \"f1\": f1}\n",
    "\n",
    "test_metrics = compute_metrics_for_test(test_v2_labels, test_v2_preds)\n",
    "\n",
    "print(\"Test v2 Inference Results:\", test_metrics)\n",
    "\n",
    "test_df_v2['predicted_label'] = test_v2_preds\n",
    "test_df_v2.to_csv(CFG.test_v2_inference_path, index=False)"
   ]
  },
  {
   "cell_type": "code",
   "execution_count": null,
   "metadata": {},
   "outputs": [],
   "source": []
  },
  {
   "cell_type": "code",
   "execution_count": null,
   "metadata": {},
   "outputs": [],
   "source": []
  },
  {
   "cell_type": "code",
   "execution_count": null,
   "metadata": {},
   "outputs": [],
   "source": []
  },
  {
   "cell_type": "code",
   "execution_count": null,
   "metadata": {},
   "outputs": [],
   "source": []
  },
  {
   "cell_type": "code",
   "execution_count": null,
   "metadata": {},
   "outputs": [],
   "source": []
  },
  {
   "cell_type": "code",
   "execution_count": null,
   "metadata": {},
   "outputs": [],
   "source": []
  },
  {
   "cell_type": "code",
   "execution_count": null,
   "metadata": {},
   "outputs": [],
   "source": []
  }
 ],
 "metadata": {
  "kernelspec": {
   "display_name": "ksh",
   "language": "python",
   "name": "python3"
  },
  "language_info": {
   "codemirror_mode": {
    "name": "ipython",
    "version": 3
   },
   "file_extension": ".py",
   "mimetype": "text/x-python",
   "name": "python",
   "nbconvert_exporter": "python",
   "pygments_lexer": "ipython3",
   "version": "3.9.19"
  }
 },
 "nbformat": 4,
 "nbformat_minor": 2
}
