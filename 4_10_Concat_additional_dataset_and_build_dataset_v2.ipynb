{
 "cells": [
  {
   "cell_type": "code",
   "execution_count": null,
   "metadata": {},
   "outputs": [],
   "source": [
    "import pandas as pd\n",
    "import os\n",
    "\n",
    "csv_files = [\n",
    "    \"df_human_ai_test_1_gpt-4o.csv\",\n",
    "    \"df_human_ai_test_2_Llama-3_1-8B-Instruct.csv\",\n",
    "    \"df_human_ai_test_3_Qwen2_5-7B-Instruct.csv\",\n",
    "    \"df_human_ai_test_4_Qwen2_5-14B-Instruct.csv\",\n",
    "    \"df_human_ai_test_5_Qwen2_5-1_5B-Instruct.csv\",\n",
    "    \"df_human_ai_test_6_Qwen2_5-0_5B-Instruct.csv\",\n",
    "    \"df_human_ai_test_7_gpt-3_5_turbo.csv\",\n",
    "    \"df_human_ai_test_8_o1-mini.csv\",\n",
    "    \"df_human_ai_test_9_gpt-4o-mini.csv\"\n",
    "]\n",
    "\n",
    "dfs = []\n",
    "\n",
    "for file in csv_files:\n",
    "    df = pd.read_csv(file)\n",
    "    print(f\"{file}: {df.shape}\")\n",
    "    dfs.append(df)\n",
    "\n",
    "df_combined = pd.concat(dfs, ignore_index=True)\n",
    "\n",
    "output_file = \"df_human_ai_test_v2_various_model.csv\"\n",
    "print('df_combined shape:', df_combined.shape)\n",
    "df_combined.to_csv(output_file, index=False)"
   ]
  },
  {
   "cell_type": "code",
   "execution_count": null,
   "metadata": {},
   "outputs": [],
   "source": []
  },
  {
   "cell_type": "code",
   "execution_count": null,
   "metadata": {},
   "outputs": [],
   "source": []
  },
  {
   "cell_type": "code",
   "execution_count": null,
   "metadata": {},
   "outputs": [],
   "source": []
  },
  {
   "cell_type": "code",
   "execution_count": null,
   "metadata": {},
   "outputs": [],
   "source": []
  },
  {
   "cell_type": "code",
   "execution_count": null,
   "metadata": {},
   "outputs": [],
   "source": []
  }
 ],
 "metadata": {
  "kernelspec": {
   "display_name": "ksh",
   "language": "python",
   "name": "python3"
  },
  "language_info": {
   "name": "python",
   "version": "3.9.19"
  }
 },
 "nbformat": 4,
 "nbformat_minor": 2
}
