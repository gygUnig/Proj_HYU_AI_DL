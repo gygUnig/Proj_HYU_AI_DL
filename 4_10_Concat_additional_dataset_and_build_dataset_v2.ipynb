{
 "cells": [
  {
   "cell_type": "code",
   "execution_count": 1,
   "metadata": {},
   "outputs": [
    {
     "name": "stdout",
     "output_type": "stream",
     "text": [
      "df_human_ai_test_1_gpt-4o.csv: (50, 10)\n",
      "df_human_ai_test_2_Llama-3_1-8B-Instruct.csv: (50, 10)\n",
      "df_human_ai_test_3_Qwen2_5-7B-Instruct.csv: (50, 10)\n",
      "df_human_ai_test_4_Qwen2_5-14B-Instruct.csv: (50, 10)\n",
      "df_human_ai_test_5_Qwen2_5-1_5B-Instruct.csv: (50, 10)\n",
      "df_human_ai_test_6_Qwen2_5-0_5B-Instruct.csv: (50, 10)\n",
      "df_human_ai_test_7_gpt-3_5_turbo.csv: (50, 10)\n",
      "df_human_ai_test_8_o1-mini.csv: (50, 10)\n",
      "df_human_ai_test_9_gpt-4o-mini.csv: (50, 10)\n",
      "df_combined shape: (450, 10)\n"
     ]
    }
   ],
   "source": [
    "import pandas as pd\n",
    "import os\n",
    "\n",
    "csv_files = [\n",
    "    \"df_human_ai_test_1_gpt-4o.csv\",\n",
    "    \"df_human_ai_test_2_Llama-3_1-8B-Instruct.csv\",\n",
    "    \"df_human_ai_test_3_Qwen2_5-7B-Instruct.csv\",\n",
    "    \"df_human_ai_test_4_Qwen2_5-14B-Instruct.csv\",\n",
    "    \"df_human_ai_test_5_Qwen2_5-1_5B-Instruct.csv\",\n",
    "    \"df_human_ai_test_6_Qwen2_5-0_5B-Instruct.csv\",\n",
    "    \"df_human_ai_test_7_gpt-3_5_turbo.csv\",\n",
    "    \"df_human_ai_test_8_o1-mini.csv\",\n",
    "    \"df_human_ai_test_9_gpt-4o-mini.csv\"\n",
    "]\n",
    "\n",
    "dfs = []\n",
    "\n",
    "for file in csv_files:\n",
    "    df = pd.read_csv(file)\n",
    "    print(f\"{file}: {df.shape}\")\n",
    "    dfs.append(df)\n",
    "\n",
    "df_combined = pd.concat(dfs, ignore_index=True)\n",
    "\n",
    "output_file = \"df_human_ai_test_v2_various_model.csv\"\n",
    "print('df_combined shape:', df_combined.shape)\n",
    "df_combined.to_csv(output_file, index=False)"
   ]
  },
  {
   "cell_type": "code",
   "execution_count": 2,
   "metadata": {},
   "outputs": [],
   "source": [
    "# Final Custom Dataset v2 구축\n",
    "def build_final_cusom_dataset(df):\n",
    "    new_rows = []\n",
    "    for _, row in df.iterrows():\n",
    "        \n",
    "        # Add human-written text with label 0\n",
    "        new_rows.append({\n",
    "            'student_grade': row['student_grade'],\n",
    "            'essay_type': row['essay_type'],\n",
    "            'essay_main_subject': row['essay_main_subject'],\n",
    "            'essay_prompt': row['essay_prompt'],\n",
    "            'text': row['paragraph_txt'],\n",
    "            'label': 0,\n",
    "            'model' : 'human'\n",
    "        })\n",
    "        # Add AI-generated text with label 1\n",
    "        new_rows.append({\n",
    "            'student_grade': row['student_grade'],\n",
    "            'essay_type': row['essay_type'],\n",
    "            'essay_main_subject': row['essay_main_subject'],\n",
    "            'essay_prompt': row['essay_prompt'],\n",
    "            'text': row['AI_Generated_Text'],\n",
    "            'label': 1,\n",
    "            'model': row['Model']\n",
    "        })\n",
    "\n",
    "    new_df = pd.DataFrame(new_rows)\n",
    "    return new_df\n",
    "\n",
    "final_test_dataset = build_final_cusom_dataset(df_combined)\n"
   ]
  },
  {
   "cell_type": "code",
   "execution_count": 3,
   "metadata": {},
   "outputs": [],
   "source": [
    "# ai가 유독 줄바꿈을 많이 하기 때문에 \\n으로 구분하는 것 방지하기 위한 전처리\n",
    "#  '\\n' 제거 처리 \n",
    "def clean_text(text):\n",
    "    # 줄바꿈 제거\n",
    "    text = text.replace(\"\\n\", \"\")\n",
    "    # 여러 개의 공백을 한 개로 축소\n",
    "    text = ' '.join(text.split())\n",
    "    return text\n",
    "\n",
    "final_test_dataset['text'] = final_test_dataset['text'].apply(clean_text)\n",
    "\n",
    "final_test_dataset.to_csv('./df_final_test_v2.csv', index=False)"
   ]
  },
  {
   "cell_type": "code",
   "execution_count": null,
   "metadata": {},
   "outputs": [],
   "source": []
  },
  {
   "cell_type": "code",
   "execution_count": null,
   "metadata": {},
   "outputs": [],
   "source": []
  },
  {
   "cell_type": "code",
   "execution_count": null,
   "metadata": {},
   "outputs": [],
   "source": []
  }
 ],
 "metadata": {
  "kernelspec": {
   "display_name": "ksh",
   "language": "python",
   "name": "python3"
  },
  "language_info": {
   "codemirror_mode": {
    "name": "ipython",
    "version": 3
   },
   "file_extension": ".py",
   "mimetype": "text/x-python",
   "name": "python",
   "nbconvert_exporter": "python",
   "pygments_lexer": "ipython3",
   "version": "3.9.19"
  }
 },
 "nbformat": 4,
 "nbformat_minor": 2
}
